{
  "nbformat": 4,
  "nbformat_minor": 0,
  "metadata": {
    "colab": {
      "provenance": [],
      "authorship_tag": "ABX9TyPl0kI8vtR/IKi+32DnEGqQ",
      "include_colab_link": true
    },
    "kernelspec": {
      "name": "python3",
      "display_name": "Python 3"
    },
    "language_info": {
      "name": "python"
    }
  },
  "cells": [
    {
      "cell_type": "markdown",
      "metadata": {
        "id": "view-in-github",
        "colab_type": "text"
      },
      "source": [
        "<a href=\"https://colab.research.google.com/github/MaxVieiraSantiago/Meus-Estudos/blob/master/UDEMY_Medidas_de_Centralidade_e_Variabilidade.ipynb\" target=\"_parent\"><img src=\"https://colab.research.google.com/assets/colab-badge.svg\" alt=\"Open In Colab\"/></a>"
      ]
    },
    {
      "cell_type": "code",
      "execution_count": 2,
      "metadata": {
        "id": "QvOTi7DakbMh"
      },
      "outputs": [],
      "source": [
        "# Importação das bibliotecas\n",
        "import numpy as np\n",
        "from scipy import stats"
      ]
    },
    {
      "cell_type": "code",
      "source": [
        "# Criação da variavel com os salários dos jogadores\n",
        "salarios = [ 40000, 18000, 12000, 250000, 30000, 140000, 300000, 40000, 800000 ]\n",
        "salarios"
      ],
      "metadata": {
        "colab": {
          "base_uri": "https://localhost:8080/"
        },
        "id": "E-BeYsRwq4uE",
        "outputId": "ffef77a3-95cd-4b03-e735-4db5e920e37d"
      },
      "execution_count": 1,
      "outputs": [
        {
          "output_type": "execute_result",
          "data": {
            "text/plain": [
              "[40000, 18000, 12000, 250000, 30000, 140000, 300000, 40000, 800000]"
            ]
          },
          "metadata": {},
          "execution_count": 1
        }
      ]
    },
    {
      "cell_type": "code",
      "source": [
        "# Criação da variável para geração dos quartis ( 0%, 25%, 50%, 75%, 100% )\n",
        "quartil = np.quantile( salarios, [ 0, 0.25, 0.50, 0.75, 1 ] )\n",
        "quartil"
      ],
      "metadata": {
        "colab": {
          "base_uri": "https://localhost:8080/"
        },
        "id": "G1vEuTumq-dM",
        "outputId": "0ae6679d-5531-438e-bfbc-87d8a9d7d70f"
      },
      "execution_count": 3,
      "outputs": [
        {
          "output_type": "execute_result",
          "data": {
            "text/plain": [
              "array([ 12000.,  30000.,  40000., 250000., 800000.])"
            ]
          },
          "metadata": {},
          "execution_count": 3
        }
      ]
    },
    {
      "cell_type": "code",
      "source": [
        "# Visualização do Desvio Padrão\n",
        "desvio_padrao = np.std( salarios, ddof=1 )\n",
        "# Hiperparâmetros -> ( ddof= graus de liberdade )\n",
        "desvio_padrao"
      ],
      "metadata": {
        "colab": {
          "base_uri": "https://localhost:8080/"
        },
        "id": "rRK1UDBjrMGW",
        "outputId": "1f5280fc-813a-45e3-fd7e-ef687b26b1ca"
      },
      "execution_count": 10,
      "outputs": [
        {
          "output_type": "execute_result",
          "data": {
            "text/plain": [
              "255307.87514511007"
            ]
          },
          "metadata": {},
          "execution_count": 10
        }
      ]
    },
    {
      "cell_type": "code",
      "source": [
        "# Visualização de estatísticas mais detalhadas usando a biblioteca scipy\n",
        "print( stats.describe( salarios ) )"
      ],
      "metadata": {
        "colab": {
          "base_uri": "https://localhost:8080/"
        },
        "id": "A3hRmDkMrRvX",
        "outputId": "919bee52-e036-4859-eb90-e9868e3cfe69"
      },
      "execution_count": 16,
      "outputs": [
        {
          "output_type": "stream",
          "name": "stdout",
          "text": [
            "DescribeResult(nobs=9, minmax=(12000, 800000), mean=181111.11111111112, variance=65182111111.11111, skewness=1.758635899846188, kurtosis=1.9572075427527729)\n"
          ]
        }
      ]
    },
    {
      "cell_type": "code",
      "source": [],
      "metadata": {
        "id": "jC-CdWb1s-m5"
      },
      "execution_count": null,
      "outputs": []
    }
  ]
}