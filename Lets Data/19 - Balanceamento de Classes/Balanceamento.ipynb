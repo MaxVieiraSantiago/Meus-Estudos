{
 "cells": [
  {
   "cell_type": "markdown",
   "metadata": {},
   "source": [
    "## **Classes Desbalanceadas**"
   ]
  },
  {
   "cell_type": "markdown",
   "metadata": {},
   "source": [
    "https://www.youtube.com/watch?v=PwlKbdsVsiY"
   ]
  },
  {
   "cell_type": "code",
   "execution_count": 5,
   "metadata": {},
   "outputs": [],
   "source": [
    "import pandas as pd\n",
    "import seaborn as sns"
   ]
  },
  {
   "cell_type": "code",
   "execution_count": 31,
   "metadata": {},
   "outputs": [
    {
     "data": {
      "text/html": [
       "<div>\n",
       "<style scoped>\n",
       "    .dataframe tbody tr th:only-of-type {\n",
       "        vertical-align: middle;\n",
       "    }\n",
       "\n",
       "    .dataframe tbody tr th {\n",
       "        vertical-align: top;\n",
       "    }\n",
       "\n",
       "    .dataframe thead th {\n",
       "        text-align: right;\n",
       "    }\n",
       "</style>\n",
       "<table border=\"1\" class=\"dataframe\">\n",
       "  <thead>\n",
       "    <tr style=\"text-align: right;\">\n",
       "      <th></th>\n",
       "      <th>Pregnancies</th>\n",
       "      <th>Glucose</th>\n",
       "      <th>BloodPressure</th>\n",
       "      <th>SkinThickness</th>\n",
       "      <th>Insulin</th>\n",
       "      <th>BMI</th>\n",
       "      <th>DiabetesPedigreeFunction</th>\n",
       "      <th>Age</th>\n",
       "      <th>Outcome</th>\n",
       "    </tr>\n",
       "  </thead>\n",
       "  <tbody>\n",
       "    <tr>\n",
       "      <th>0</th>\n",
       "      <td>6</td>\n",
       "      <td>148</td>\n",
       "      <td>72</td>\n",
       "      <td>35</td>\n",
       "      <td>0</td>\n",
       "      <td>33.6</td>\n",
       "      <td>0.627</td>\n",
       "      <td>50</td>\n",
       "      <td>1</td>\n",
       "    </tr>\n",
       "    <tr>\n",
       "      <th>1</th>\n",
       "      <td>1</td>\n",
       "      <td>85</td>\n",
       "      <td>66</td>\n",
       "      <td>29</td>\n",
       "      <td>0</td>\n",
       "      <td>26.6</td>\n",
       "      <td>0.351</td>\n",
       "      <td>31</td>\n",
       "      <td>0</td>\n",
       "    </tr>\n",
       "    <tr>\n",
       "      <th>2</th>\n",
       "      <td>8</td>\n",
       "      <td>183</td>\n",
       "      <td>64</td>\n",
       "      <td>0</td>\n",
       "      <td>0</td>\n",
       "      <td>23.3</td>\n",
       "      <td>0.672</td>\n",
       "      <td>32</td>\n",
       "      <td>1</td>\n",
       "    </tr>\n",
       "    <tr>\n",
       "      <th>3</th>\n",
       "      <td>1</td>\n",
       "      <td>89</td>\n",
       "      <td>66</td>\n",
       "      <td>23</td>\n",
       "      <td>94</td>\n",
       "      <td>28.1</td>\n",
       "      <td>0.167</td>\n",
       "      <td>21</td>\n",
       "      <td>0</td>\n",
       "    </tr>\n",
       "    <tr>\n",
       "      <th>4</th>\n",
       "      <td>0</td>\n",
       "      <td>137</td>\n",
       "      <td>40</td>\n",
       "      <td>35</td>\n",
       "      <td>168</td>\n",
       "      <td>43.1</td>\n",
       "      <td>2.288</td>\n",
       "      <td>33</td>\n",
       "      <td>1</td>\n",
       "    </tr>\n",
       "  </tbody>\n",
       "</table>\n",
       "</div>"
      ],
      "text/plain": [
       "   Pregnancies  Glucose  BloodPressure  SkinThickness  Insulin   BMI  \\\n",
       "0            6      148             72             35        0  33.6   \n",
       "1            1       85             66             29        0  26.6   \n",
       "2            8      183             64              0        0  23.3   \n",
       "3            1       89             66             23       94  28.1   \n",
       "4            0      137             40             35      168  43.1   \n",
       "\n",
       "   DiabetesPedigreeFunction  Age  Outcome  \n",
       "0                     0.627   50        1  \n",
       "1                     0.351   31        0  \n",
       "2                     0.672   32        1  \n",
       "3                     0.167   21        0  \n",
       "4                     2.288   33        1  "
      ]
     },
     "execution_count": 31,
     "metadata": {},
     "output_type": "execute_result"
    }
   ],
   "source": [
    "dados = pd.read_csv('diabetes.csv')\n",
    "dados.head()"
   ]
  },
  {
   "cell_type": "code",
   "execution_count": 4,
   "metadata": {},
   "outputs": [
    {
     "data": {
      "text/plain": [
       "Outcome\n",
       "0    500\n",
       "1    268\n",
       "Name: count, dtype: int64"
      ]
     },
     "execution_count": 4,
     "metadata": {},
     "output_type": "execute_result"
    }
   ],
   "source": [
    "dados['Outcome'].value_counts()"
   ]
  },
  {
   "cell_type": "code",
   "execution_count": 7,
   "metadata": {},
   "outputs": [
    {
     "data": {
      "image/png": "[encoded data removed]",
      "text/plain": [
       "<Figure size 640x480 with 1 Axes>"
      ]
     },
     "metadata": {},
     "output_type": "display_data"
    }
   ],
   "source": [
    "sns.countplot(x=dados['Outcome'], hue=dados['Outcome']);"
   ]
  },
  {
   "cell_type": "code",
   "execution_count": 32,
   "metadata": {},
   "outputs": [
    {
     "data": {
      "text/plain": [
       "((768, 8), (768, 1))"
      ]
     },
     "execution_count": 32,
     "metadata": {},
     "output_type": "execute_result"
    }
   ],
   "source": [
    "X = dados.drop(columns=['Outcome'], axis=1)\n",
    "y = dados[['Outcome']]\n",
    "\n",
    "X.shape, y.shape"
   ]
  },
  {
   "cell_type": "code",
   "execution_count": 33,
   "metadata": {},
   "outputs": [
    {
     "data": {
      "text/plain": [
       "((576, 8), (192, 8), (576, 1), (192, 1))"
      ]
     },
     "execution_count": 33,
     "metadata": {},
     "output_type": "execute_result"
    }
   ],
   "source": [
    "from sklearn.model_selection import train_test_split\n",
    "\n",
    "Xtrain, Xtest, ytrain, ytest = train_test_split(X, y) \n",
    "\n",
    "Xtrain.shape, Xtest.shape, ytrain.shape, ytest.shape"
   ]
  },
  {
   "cell_type": "markdown",
   "metadata": {},
   "source": [
    "## **Validação Cruzada - Função Manual**"
   ]
  },
  {
   "cell_type": "code",
   "execution_count": 34,
   "metadata": {},
   "outputs": [],
   "source": [
    "from imblearn.over_sampling import SMOTE\n",
    "from sklearn.metrics import accuracy_score\n",
    "from sklearn.model_selection import KFold\n",
    "\n",
    "# Função de Validação Cruzada na MÃO\n",
    "def validacao_cruzada(modelo, X, y, oversampling=False):\n",
    "    # K-Fold do sckit-learn\n",
    "    kfold = KFold(n_splits=10)\n",
    "    \n",
    "    # Lista de acuráricas de cada split\n",
    "    acuracias_split = []\n",
    "    \n",
    "    # iterando sobre os splits\n",
    "    for idx, (idx_treino, idx_validacao) in enumerate(kfold.split(X)):\n",
    "        X_split_treino = X.iloc[idx_treino, :]\n",
    "        y_split_treino = y.iloc[idx_treino, :]\n",
    "        \n",
    "        # oversampling somente no split de treino\n",
    "        if oversampling:\n",
    "            smote = SMOTE(random_state=42)\n",
    "            X_split_treino, y_split_treino = smote.fit_resample(X_split_treino, y_split_treino)\n",
    "            \n",
    "        modelo.fit(X_split_treino, y_split_treino.values.flatten())\n",
    "        \n",
    "        X_split_validacao = X.iloc[idx_validacao, :]\n",
    "        y_split_validacao = y.iloc[idx_validacao, :]\n",
    "        \n",
    "        # Validação SEM oversampling, da forma correta\n",
    "        predicoes_validacao = modelo.predict(X_split_validacao)\n",
    "        \n",
    "        acuracia_split = accuracy_score(y_split_validacao, predicoes_validacao)\n",
    "        acuracias_split.append(acuracia_split)\n",
    "        \n",
    "        print(f'Acurácia do split {idx}: {acuracia_split}')\n",
    "        \n",
    "    return acuracias_split"
   ]
  },
  {
   "cell_type": "markdown",
   "metadata": {},
   "source": [
    "## **Criando o Modelo**"
   ]
  },
  {
   "cell_type": "code",
   "execution_count": 29,
   "metadata": {},
   "outputs": [
    {
     "name": "stdout",
     "output_type": "stream",
     "text": [
      "Acurácia do split 0: 0.7758620689655172\n",
      "Acurácia do split 1: 0.7931034482758621\n",
      "Acurácia do split 2: 0.7241379310344828\n",
      "Acurácia do split 3: 0.6551724137931034\n",
      "Acurácia do split 4: 0.7931034482758621\n",
      "Acurácia do split 5: 0.7586206896551724\n",
      "Acurácia do split 6: 0.6140350877192983\n",
      "Acurácia do split 7: 0.7543859649122807\n",
      "Acurácia do split 8: 0.8070175438596491\n",
      "Acurácia do split 9: 0.6842105263157895\n",
      "Acurácia do split 0: 0.7586206896551724\n",
      "Acurácia do split 1: 0.7931034482758621\n",
      "Acurácia do split 2: 0.7068965517241379\n",
      "Acurácia do split 3: 0.6551724137931034\n",
      "Acurácia do split 4: 0.7586206896551724\n",
      "Acurácia do split 5: 0.6551724137931034\n",
      "Acurácia do split 6: 0.631578947368421\n",
      "Acurácia do split 7: 0.7719298245614035\n",
      "Acurácia do split 8: 0.7192982456140351\n",
      "Acurácia do split 9: 0.6666666666666666\n",
      "\n",
      "Sem SMOTE: 73.60%   Com SMOTE: 71.17%\n"
     ]
    }
   ],
   "source": [
    "from sklearn.ensemble import HistGradientBoostingClassifier\n",
    "from statistics import mean\n",
    "\n",
    "modelo_hgb = HistGradientBoostingClassifier()\n",
    "\n",
    "media_acuracia_sem_smote = mean(validacao_cruzada(modelo_hgb, Xtrain, ytrain, oversampling=False)) * 100\n",
    "media_acuracia_com_smote = mean(validacao_cruzada(modelo_hgb, Xtrain, ytrain, oversampling=True )) * 100\n",
    "\n",
    "print(f'\\nSem SMOTE: {media_acuracia_sem_smote:.02f}%   Com SMOTE: {media_acuracia_com_smote:.02f}%')"
   ]
  },
  {
   "cell_type": "markdown",
   "metadata": {},
   "source": [
    "## **Forma ERRADA**"
   ]
  },
  {
   "cell_type": "code",
   "execution_count": 35,
   "metadata": {},
   "outputs": [
    {
     "data": {
      "text/plain": [
       "78.60870375547479"
      ]
     },
     "execution_count": 35,
     "metadata": {},
     "output_type": "execute_result"
    }
   ],
   "source": [
    "# Não se deve balancear as classes antes do split\n",
    "from sklearn.model_selection import cross_val_score\n",
    "\n",
    "# ERRADO !\n",
    "smote = SMOTE(random_state=42)\n",
    "\n",
    "Xtrain, ytrain = smote.fit_resample(Xtrain, ytrain)\n",
    "\n",
    "# Os splits criados no cross_val_score estão com a validação BALANCEADA e isso\n",
    "# é DISTORCER o mundo REAL\n",
    "mean(cross_val_score(modelo_hgb, Xtrain, ytrain.values.flatten())) * 100"
   ]
  },
  {
   "cell_type": "code",
   "execution_count": null,
   "metadata": {},
   "outputs": [],
   "source": []
  }
 ],
 "metadata": {
  "kernelspec": {
   "display_name": "Python 3",
   "language": "python",
   "name": "python3"
  },
  "language_info": {
   "codemirror_mode": {
    "name": "ipython",
    "version": 3
   },
   "file_extension": ".py",
   "mimetype": "text/x-python",
   "name": "python",
   "nbconvert_exporter": "python",
   "pygments_lexer": "ipython3",
   "version": "3.12.4"
  }
 },
 "nbformat": 4,
 "nbformat_minor": 2
}
