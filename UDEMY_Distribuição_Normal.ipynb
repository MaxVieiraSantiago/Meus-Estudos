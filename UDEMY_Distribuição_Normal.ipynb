{
  "nbformat": 4,
  "nbformat_minor": 0,
  "metadata": {
    "colab": {
      "provenance": [],
      "authorship_tag": "ABX9TyM8CktCw+YTF8gjAZ912m+Q",
      "include_colab_link": true
    },
    "kernelspec": {
      "name": "python3",
      "display_name": "Python 3"
    },
    "language_info": {
      "name": "python"
    }
  },
  "cells": [
    {
      "cell_type": "markdown",
      "metadata": {
        "id": "view-in-github",
        "colab_type": "text"
      },
      "source": [
        "<a href=\"https://colab.research.google.com/github/MaxVieiraSantiago/Meus-Estudos/blob/master/UDEMY_Distribui%C3%A7%C3%A3o_Normal.ipynb\" target=\"_parent\"><img src=\"https://colab.research.google.com/assets/colab-badge.svg\" alt=\"Open In Colab\"/></a>"
      ]
    },
    {
      "cell_type": "code",
      "execution_count": 1,
      "metadata": {
        "id": "UaICaPb2v2tW"
      },
      "outputs": [],
      "source": [
        "# Importação da função norm\n",
        "from scipy.stats import norm\n",
        "\n",
        "# norm.cdf ( para valores MENORES < )\n",
        "# norm.sf  ( para valores MAIORES > )"
      ]
    },
    {
      "cell_type": "code",
      "source": [
        "# Conjunto de objetos em uma cesta, a média é 8 e o desvio padrão é 2\n",
        "# Qual a probabilidade de retirar um objeto cujo peso é MENOR do que 6kg ?\n",
        "\n",
        "probabilidade = norm.cdf( 6, 8, 2 ) * 100\n",
        "print(f'Probabilidade = { probabilidade:,.2f}%'  )"
      ],
      "metadata": {
        "colab": {
          "base_uri": "https://localhost:8080/"
        },
        "id": "KtizZ3aPwJCv",
        "outputId": "cea423a4-824f-427b-db69-90915175557a"
      },
      "execution_count": 9,
      "outputs": [
        {
          "output_type": "stream",
          "name": "stdout",
          "text": [
            "Probabilidade = 15.87%\n"
          ]
        }
      ]
    },
    {
      "cell_type": "code",
      "source": [
        "# Qual a probabilidade de retirar um objeto cujo peso é MAIOR do que 6kg ?\n",
        "probabilidade = norm.sf( 6, 8, 2 ) * 100\n",
        "\n",
        "print(f'Probabilidade = {probabilidade:,.2f}%')"
      ],
      "metadata": {
        "colab": {
          "base_uri": "https://localhost:8080/"
        },
        "id": "C_mK3sAo4zZi",
        "outputId": "5ae0fbae-1eeb-4c20-8843-30092d120f90"
      },
      "execution_count": 16,
      "outputs": [
        {
          "output_type": "stream",
          "name": "stdout",
          "text": [
            "Probabilidade = 84.13%\n"
          ]
        }
      ]
    },
    {
      "cell_type": "code",
      "source": [
        "# Qual a probabilidade de retirar um objeto cujo peso é menor que 6kg ou maior que 10kg ?\n",
        "probabilidade = ( norm.cdf( 6, 8, 2 ) + norm.sf( 10, 8, 2 ) ) * 100\n",
        "\n",
        "print(f'Probabilidade = {probabilidade:,.2f}%')"
      ],
      "metadata": {
        "colab": {
          "base_uri": "https://localhost:8080/"
        },
        "id": "Rdoej71YwRUx",
        "outputId": "a7e6e521-583b-435c-c73c-b102e62bad89"
      },
      "execution_count": 15,
      "outputs": [
        {
          "output_type": "stream",
          "name": "stdout",
          "text": [
            "Probabilidade = 31.73%\n"
          ]
        }
      ]
    },
    {
      "cell_type": "code",
      "source": [
        "# Qual a probabilidade de retirar um objeto cujo peso é menor que 10kg e maior do que 8kg ?\n",
        "probabilidade = ( norm.cdf( 10, 8, 2 ) - norm.cdf( 8, 8, 2 ) ) * 100\n",
        "\n",
        "print(f'Probabilidade = {probabilidade:,.2f}%')"
      ],
      "metadata": {
        "colab": {
          "base_uri": "https://localhost:8080/"
        },
        "id": "8UDhSOfYwaI_",
        "outputId": "50eb76c5-8dae-4019-eb03-5830e28689ce"
      },
      "execution_count": 18,
      "outputs": [
        {
          "output_type": "stream",
          "name": "stdout",
          "text": [
            "Probabilidade = 34.13%\n"
          ]
        }
      ]
    }
  ]
}